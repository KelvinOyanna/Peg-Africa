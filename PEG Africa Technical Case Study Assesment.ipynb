{
 "cells": [
  {
   "cell_type": "markdown",
   "metadata": {},
   "source": [
    "### Case Study A"
   ]
  },
  {
   "cell_type": "code",
   "execution_count": 38,
   "metadata": {},
   "outputs": [],
   "source": [
    "# Importing Python libraries for data manipulation\n",
    "import pandas as pd\n",
    "import numpy as np\n",
    "import seaborn as sns\n",
    "import matplotlib.pyplot as plt"
   ]
  },
  {
   "cell_type": "code",
   "execution_count": 39,
   "metadata": {},
   "outputs": [],
   "source": [
    "# Reading in the data\n",
    "provisioning_data = pd.read_excel('provisioning-data.xlsx')"
   ]
  },
  {
   "cell_type": "code",
   "execution_count": 40,
   "metadata": {},
   "outputs": [
    {
     "data": {
      "text/html": [
       "<div>\n",
       "<style scoped>\n",
       "    .dataframe tbody tr th:only-of-type {\n",
       "        vertical-align: middle;\n",
       "    }\n",
       "\n",
       "    .dataframe tbody tr th {\n",
       "        vertical-align: top;\n",
       "    }\n",
       "\n",
       "    .dataframe thead th {\n",
       "        text-align: right;\n",
       "    }\n",
       "</style>\n",
       "<table border=\"1\" class=\"dataframe\">\n",
       "  <thead>\n",
       "    <tr style=\"text-align: right;\">\n",
       "      <th></th>\n",
       "      <th>Loan_Id</th>\n",
       "      <th>Date_Of_Activity</th>\n",
       "      <th>Credits_End_Date</th>\n",
       "      <th>Outstanding_Balance</th>\n",
       "      <th>customerStatus</th>\n",
       "      <th>parProductType</th>\n",
       "    </tr>\n",
       "  </thead>\n",
       "  <tbody>\n",
       "    <tr>\n",
       "      <th>0</th>\n",
       "      <td>1239226</td>\n",
       "      <td>2019-06-30</td>\n",
       "      <td>2018-10-07</td>\n",
       "      <td>0.0</td>\n",
       "      <td>Finished Payment</td>\n",
       "      <td>SHS</td>\n",
       "    </tr>\n",
       "    <tr>\n",
       "      <th>1</th>\n",
       "      <td>1250598</td>\n",
       "      <td>2019-06-30</td>\n",
       "      <td>2019-02-20</td>\n",
       "      <td>0.0</td>\n",
       "      <td>Finished Payment</td>\n",
       "      <td>SHS</td>\n",
       "    </tr>\n",
       "    <tr>\n",
       "      <th>2</th>\n",
       "      <td>1250602</td>\n",
       "      <td>2019-06-30</td>\n",
       "      <td>2018-08-16</td>\n",
       "      <td>0.0</td>\n",
       "      <td>Finished Payment</td>\n",
       "      <td>SHS</td>\n",
       "    </tr>\n",
       "    <tr>\n",
       "      <th>3</th>\n",
       "      <td>1251521</td>\n",
       "      <td>2019-06-30</td>\n",
       "      <td>2019-01-14</td>\n",
       "      <td>0.0</td>\n",
       "      <td>Finished Payment</td>\n",
       "      <td>SHS</td>\n",
       "    </tr>\n",
       "    <tr>\n",
       "      <th>4</th>\n",
       "      <td>1251524</td>\n",
       "      <td>2019-06-30</td>\n",
       "      <td>2017-12-21</td>\n",
       "      <td>700.0</td>\n",
       "      <td>Blocked</td>\n",
       "      <td>SHS</td>\n",
       "    </tr>\n",
       "  </tbody>\n",
       "</table>\n",
       "</div>"
      ],
      "text/plain": [
       "   Loan_Id Date_Of_Activity Credits_End_Date  Outstanding_Balance  \\\n",
       "0  1239226       2019-06-30       2018-10-07                  0.0   \n",
       "1  1250598       2019-06-30       2019-02-20                  0.0   \n",
       "2  1250602       2019-06-30       2018-08-16                  0.0   \n",
       "3  1251521       2019-06-30       2019-01-14                  0.0   \n",
       "4  1251524       2019-06-30       2017-12-21                700.0   \n",
       "\n",
       "     customerStatus parProductType  \n",
       "0  Finished Payment            SHS  \n",
       "1  Finished Payment            SHS  \n",
       "2  Finished Payment            SHS  \n",
       "3  Finished Payment            SHS  \n",
       "4           Blocked            SHS  "
      ]
     },
     "execution_count": 40,
     "metadata": {},
     "output_type": "execute_result"
    }
   ],
   "source": [
    "provisioning_data.head()"
   ]
  },
  {
   "cell_type": "markdown",
   "metadata": {},
   "source": [
    "### Understanding the size of the data"
   ]
  },
  {
   "cell_type": "code",
   "execution_count": 41,
   "metadata": {},
   "outputs": [
    {
     "data": {
      "text/plain": [
       "(46237, 6)"
      ]
     },
     "execution_count": 41,
     "metadata": {},
     "output_type": "execute_result"
    }
   ],
   "source": [
    "provisioning_data.shape"
   ]
  },
  {
   "cell_type": "markdown",
   "metadata": {},
   "source": [
    "### Creating a new column for: Days Without Light"
   ]
  },
  {
   "cell_type": "code",
   "execution_count": 42,
   "metadata": {},
   "outputs": [],
   "source": [
    "provisioning_data['Days Without Light'] = provisioning_data['Date_Of_Activity'] - provisioning_data['Credits_End_Date']"
   ]
  },
  {
   "cell_type": "code",
   "execution_count": 43,
   "metadata": {},
   "outputs": [],
   "source": [
    "# Convert the values of \"Days Without Light\" column to integer values\n",
    "provisioning_data['Days Without Light'] = provisioning_data['Days Without Light'].astype('timedelta64[D]').astype(int)"
   ]
  },
  {
   "cell_type": "code",
   "execution_count": 44,
   "metadata": {
    "scrolled": true
   },
   "outputs": [
    {
     "data": {
      "text/html": [
       "<div>\n",
       "<style scoped>\n",
       "    .dataframe tbody tr th:only-of-type {\n",
       "        vertical-align: middle;\n",
       "    }\n",
       "\n",
       "    .dataframe tbody tr th {\n",
       "        vertical-align: top;\n",
       "    }\n",
       "\n",
       "    .dataframe thead th {\n",
       "        text-align: right;\n",
       "    }\n",
       "</style>\n",
       "<table border=\"1\" class=\"dataframe\">\n",
       "  <thead>\n",
       "    <tr style=\"text-align: right;\">\n",
       "      <th></th>\n",
       "      <th>Loan_Id</th>\n",
       "      <th>Date_Of_Activity</th>\n",
       "      <th>Credits_End_Date</th>\n",
       "      <th>Outstanding_Balance</th>\n",
       "      <th>customerStatus</th>\n",
       "      <th>parProductType</th>\n",
       "      <th>Days Without Light</th>\n",
       "    </tr>\n",
       "  </thead>\n",
       "  <tbody>\n",
       "    <tr>\n",
       "      <th>0</th>\n",
       "      <td>1239226</td>\n",
       "      <td>2019-06-30</td>\n",
       "      <td>2018-10-07</td>\n",
       "      <td>0.0</td>\n",
       "      <td>Finished Payment</td>\n",
       "      <td>SHS</td>\n",
       "      <td>266</td>\n",
       "    </tr>\n",
       "    <tr>\n",
       "      <th>1</th>\n",
       "      <td>1250598</td>\n",
       "      <td>2019-06-30</td>\n",
       "      <td>2019-02-20</td>\n",
       "      <td>0.0</td>\n",
       "      <td>Finished Payment</td>\n",
       "      <td>SHS</td>\n",
       "      <td>130</td>\n",
       "    </tr>\n",
       "    <tr>\n",
       "      <th>2</th>\n",
       "      <td>1250602</td>\n",
       "      <td>2019-06-30</td>\n",
       "      <td>2018-08-16</td>\n",
       "      <td>0.0</td>\n",
       "      <td>Finished Payment</td>\n",
       "      <td>SHS</td>\n",
       "      <td>318</td>\n",
       "    </tr>\n",
       "    <tr>\n",
       "      <th>3</th>\n",
       "      <td>1251521</td>\n",
       "      <td>2019-06-30</td>\n",
       "      <td>2019-01-14</td>\n",
       "      <td>0.0</td>\n",
       "      <td>Finished Payment</td>\n",
       "      <td>SHS</td>\n",
       "      <td>167</td>\n",
       "    </tr>\n",
       "    <tr>\n",
       "      <th>4</th>\n",
       "      <td>1251524</td>\n",
       "      <td>2019-06-30</td>\n",
       "      <td>2017-12-21</td>\n",
       "      <td>700.0</td>\n",
       "      <td>Blocked</td>\n",
       "      <td>SHS</td>\n",
       "      <td>556</td>\n",
       "    </tr>\n",
       "  </tbody>\n",
       "</table>\n",
       "</div>"
      ],
      "text/plain": [
       "   Loan_Id Date_Of_Activity Credits_End_Date  Outstanding_Balance  \\\n",
       "0  1239226       2019-06-30       2018-10-07                  0.0   \n",
       "1  1250598       2019-06-30       2019-02-20                  0.0   \n",
       "2  1250602       2019-06-30       2018-08-16                  0.0   \n",
       "3  1251521       2019-06-30       2019-01-14                  0.0   \n",
       "4  1251524       2019-06-30       2017-12-21                700.0   \n",
       "\n",
       "     customerStatus parProductType  Days Without Light  \n",
       "0  Finished Payment            SHS                 266  \n",
       "1  Finished Payment            SHS                 130  \n",
       "2  Finished Payment            SHS                 318  \n",
       "3  Finished Payment            SHS                 167  \n",
       "4           Blocked            SHS                 556  "
      ]
     },
     "execution_count": 44,
     "metadata": {},
     "output_type": "execute_result"
    }
   ],
   "source": [
    "# Check the first 5 rows of the data\n",
    "provisioning_data.head()"
   ]
  },
  {
   "cell_type": "markdown",
   "metadata": {},
   "source": [
    "### A function to group customers by: No of days without Light"
   ]
  },
  {
   "cell_type": "code",
   "execution_count": 45,
   "metadata": {},
   "outputs": [],
   "source": [
    "# The value returned by this function is used to represent the various categories of customers based on their Days without light\n",
    "def customers_group(days):\n",
    "    if (days >= 0) & (days <= 31):\n",
    "        value = '0-31'\n",
    "    elif (days > 31) & (days <= 62):\n",
    "        value = '32-62'\n",
    "    elif (days > 62) & (days <= 93):\n",
    "        value =  '63-93'\n",
    "    elif (days > 93) & (days <= 124):\n",
    "        value = '94-124'\n",
    "    elif (days > 124) & (days <= 155):\n",
    "        value = '125-155'\n",
    "    else:\n",
    "        value = '156+'\n",
    "    return value"
   ]
  },
  {
   "cell_type": "code",
   "execution_count": 46,
   "metadata": {},
   "outputs": [],
   "source": [
    "# Applying the above function on the column: Days Without Light\n",
    "provisioning_data['Days Without Light'] = provisioning_data['Days Without Light'].apply(customers_group)"
   ]
  },
  {
   "cell_type": "code",
   "execution_count": 47,
   "metadata": {
    "scrolled": true
   },
   "outputs": [
    {
     "data": {
      "text/html": [
       "<div>\n",
       "<style scoped>\n",
       "    .dataframe tbody tr th:only-of-type {\n",
       "        vertical-align: middle;\n",
       "    }\n",
       "\n",
       "    .dataframe tbody tr th {\n",
       "        vertical-align: top;\n",
       "    }\n",
       "\n",
       "    .dataframe thead th {\n",
       "        text-align: right;\n",
       "    }\n",
       "</style>\n",
       "<table border=\"1\" class=\"dataframe\">\n",
       "  <thead>\n",
       "    <tr style=\"text-align: right;\">\n",
       "      <th></th>\n",
       "      <th>Loan_Id</th>\n",
       "      <th>Date_Of_Activity</th>\n",
       "      <th>Credits_End_Date</th>\n",
       "      <th>Outstanding_Balance</th>\n",
       "      <th>customerStatus</th>\n",
       "      <th>parProductType</th>\n",
       "      <th>Days Without Light</th>\n",
       "    </tr>\n",
       "  </thead>\n",
       "  <tbody>\n",
       "    <tr>\n",
       "      <th>0</th>\n",
       "      <td>1239226</td>\n",
       "      <td>2019-06-30</td>\n",
       "      <td>2018-10-07</td>\n",
       "      <td>0.0</td>\n",
       "      <td>Finished Payment</td>\n",
       "      <td>SHS</td>\n",
       "      <td>156+</td>\n",
       "    </tr>\n",
       "    <tr>\n",
       "      <th>1</th>\n",
       "      <td>1250598</td>\n",
       "      <td>2019-06-30</td>\n",
       "      <td>2019-02-20</td>\n",
       "      <td>0.0</td>\n",
       "      <td>Finished Payment</td>\n",
       "      <td>SHS</td>\n",
       "      <td>125-155</td>\n",
       "    </tr>\n",
       "    <tr>\n",
       "      <th>2</th>\n",
       "      <td>1250602</td>\n",
       "      <td>2019-06-30</td>\n",
       "      <td>2018-08-16</td>\n",
       "      <td>0.0</td>\n",
       "      <td>Finished Payment</td>\n",
       "      <td>SHS</td>\n",
       "      <td>156+</td>\n",
       "    </tr>\n",
       "    <tr>\n",
       "      <th>3</th>\n",
       "      <td>1251521</td>\n",
       "      <td>2019-06-30</td>\n",
       "      <td>2019-01-14</td>\n",
       "      <td>0.0</td>\n",
       "      <td>Finished Payment</td>\n",
       "      <td>SHS</td>\n",
       "      <td>156+</td>\n",
       "    </tr>\n",
       "    <tr>\n",
       "      <th>4</th>\n",
       "      <td>1251524</td>\n",
       "      <td>2019-06-30</td>\n",
       "      <td>2017-12-21</td>\n",
       "      <td>700.0</td>\n",
       "      <td>Blocked</td>\n",
       "      <td>SHS</td>\n",
       "      <td>156+</td>\n",
       "    </tr>\n",
       "  </tbody>\n",
       "</table>\n",
       "</div>"
      ],
      "text/plain": [
       "   Loan_Id Date_Of_Activity Credits_End_Date  Outstanding_Balance  \\\n",
       "0  1239226       2019-06-30       2018-10-07                  0.0   \n",
       "1  1250598       2019-06-30       2019-02-20                  0.0   \n",
       "2  1250602       2019-06-30       2018-08-16                  0.0   \n",
       "3  1251521       2019-06-30       2019-01-14                  0.0   \n",
       "4  1251524       2019-06-30       2017-12-21                700.0   \n",
       "\n",
       "     customerStatus parProductType Days Without Light  \n",
       "0  Finished Payment            SHS               156+  \n",
       "1  Finished Payment            SHS            125-155  \n",
       "2  Finished Payment            SHS               156+  \n",
       "3  Finished Payment            SHS               156+  \n",
       "4           Blocked            SHS               156+  "
      ]
     },
     "execution_count": 47,
     "metadata": {},
     "output_type": "execute_result"
    }
   ],
   "source": [
    "provisioning_data.head()"
   ]
  },
  {
   "cell_type": "markdown",
   "metadata": {},
   "source": [
    "### Funtion to computer the Provisioning Percentage"
   ]
  },
  {
   "cell_type": "code",
   "execution_count": 48,
   "metadata": {},
   "outputs": [],
   "source": [
    "# This function computes and return the provisioning percentage for the different categories of of customers based on their\n",
    "# number of days without light\n",
    "def provisioning_percentage():\n",
    "    for value in provisioning_data['Days Without Light']:\n",
    "        if value == '0-31':\n",
    "            return 0/100\n",
    "        elif value == '32-62':\n",
    "            return 25/100\n",
    "        elif value == '63-93':\n",
    "            return 50/100\n",
    "        elif value == '94-124':\n",
    "            return 65/100\n",
    "        elif value == '125-155':\n",
    "            return 85/100\n",
    "        elif value == '156+':\n",
    "            return 1\n",
    "        else:\n",
    "            break\n",
    "    for value in provisioning_data['customerStatus']:\n",
    "        if value == 'Cancelled':\n",
    "            return 1\n",
    "        else:\n",
    "            break"
   ]
  },
  {
   "cell_type": "markdown",
   "metadata": {},
   "source": [
    "### Adding a column for the \"Provisioning Amount\""
   ]
  },
  {
   "cell_type": "code",
   "execution_count": 49,
   "metadata": {},
   "outputs": [],
   "source": [
    "# The function above - provisioning_percentage() is called in the line of code below to get the percentage that will be used\n",
    "# to to compute the provisioning amount\n",
    "provisioning_data['Provisioning Amount'] = provisioning_percentage() * provisioning_data['Outstanding_Balance']"
   ]
  },
  {
   "cell_type": "code",
   "execution_count": 50,
   "metadata": {
    "scrolled": true
   },
   "outputs": [
    {
     "data": {
      "text/html": [
       "<div>\n",
       "<style scoped>\n",
       "    .dataframe tbody tr th:only-of-type {\n",
       "        vertical-align: middle;\n",
       "    }\n",
       "\n",
       "    .dataframe tbody tr th {\n",
       "        vertical-align: top;\n",
       "    }\n",
       "\n",
       "    .dataframe thead th {\n",
       "        text-align: right;\n",
       "    }\n",
       "</style>\n",
       "<table border=\"1\" class=\"dataframe\">\n",
       "  <thead>\n",
       "    <tr style=\"text-align: right;\">\n",
       "      <th></th>\n",
       "      <th>Loan_Id</th>\n",
       "      <th>Date_Of_Activity</th>\n",
       "      <th>Credits_End_Date</th>\n",
       "      <th>Outstanding_Balance</th>\n",
       "      <th>customerStatus</th>\n",
       "      <th>parProductType</th>\n",
       "      <th>Days Without Light</th>\n",
       "      <th>Provisioning Amount</th>\n",
       "    </tr>\n",
       "  </thead>\n",
       "  <tbody>\n",
       "    <tr>\n",
       "      <th>0</th>\n",
       "      <td>1239226</td>\n",
       "      <td>2019-06-30</td>\n",
       "      <td>2018-10-07</td>\n",
       "      <td>0.0</td>\n",
       "      <td>Finished Payment</td>\n",
       "      <td>SHS</td>\n",
       "      <td>156+</td>\n",
       "      <td>0.0</td>\n",
       "    </tr>\n",
       "    <tr>\n",
       "      <th>1</th>\n",
       "      <td>1250598</td>\n",
       "      <td>2019-06-30</td>\n",
       "      <td>2019-02-20</td>\n",
       "      <td>0.0</td>\n",
       "      <td>Finished Payment</td>\n",
       "      <td>SHS</td>\n",
       "      <td>125-155</td>\n",
       "      <td>0.0</td>\n",
       "    </tr>\n",
       "    <tr>\n",
       "      <th>2</th>\n",
       "      <td>1250602</td>\n",
       "      <td>2019-06-30</td>\n",
       "      <td>2018-08-16</td>\n",
       "      <td>0.0</td>\n",
       "      <td>Finished Payment</td>\n",
       "      <td>SHS</td>\n",
       "      <td>156+</td>\n",
       "      <td>0.0</td>\n",
       "    </tr>\n",
       "    <tr>\n",
       "      <th>3</th>\n",
       "      <td>1251521</td>\n",
       "      <td>2019-06-30</td>\n",
       "      <td>2019-01-14</td>\n",
       "      <td>0.0</td>\n",
       "      <td>Finished Payment</td>\n",
       "      <td>SHS</td>\n",
       "      <td>156+</td>\n",
       "      <td>0.0</td>\n",
       "    </tr>\n",
       "    <tr>\n",
       "      <th>4</th>\n",
       "      <td>1251524</td>\n",
       "      <td>2019-06-30</td>\n",
       "      <td>2017-12-21</td>\n",
       "      <td>700.0</td>\n",
       "      <td>Blocked</td>\n",
       "      <td>SHS</td>\n",
       "      <td>156+</td>\n",
       "      <td>700.0</td>\n",
       "    </tr>\n",
       "  </tbody>\n",
       "</table>\n",
       "</div>"
      ],
      "text/plain": [
       "   Loan_Id Date_Of_Activity Credits_End_Date  Outstanding_Balance  \\\n",
       "0  1239226       2019-06-30       2018-10-07                  0.0   \n",
       "1  1250598       2019-06-30       2019-02-20                  0.0   \n",
       "2  1250602       2019-06-30       2018-08-16                  0.0   \n",
       "3  1251521       2019-06-30       2019-01-14                  0.0   \n",
       "4  1251524       2019-06-30       2017-12-21                700.0   \n",
       "\n",
       "     customerStatus parProductType Days Without Light  Provisioning Amount  \n",
       "0  Finished Payment            SHS               156+                  0.0  \n",
       "1  Finished Payment            SHS            125-155                  0.0  \n",
       "2  Finished Payment            SHS               156+                  0.0  \n",
       "3  Finished Payment            SHS               156+                  0.0  \n",
       "4           Blocked            SHS               156+                700.0  "
      ]
     },
     "execution_count": 50,
     "metadata": {},
     "output_type": "execute_result"
    }
   ],
   "source": [
    "provisioning_data.head()"
   ]
  },
  {
   "cell_type": "markdown",
   "metadata": {},
   "source": [
    "### Computing the Opening Balance\n",
    "##### The opening balance is the cumulative sum of the  Provisioning Amount  across all the buckets at the end of the month."
   ]
  },
  {
   "cell_type": "code",
   "execution_count": 51,
   "metadata": {},
   "outputs": [],
   "source": [
    "# Extracting the data for 30th of June (End of the month) as provided in the data\n",
    "cumulative_sum_data1 = provisioning_data[provisioning_data['Date_Of_Activity'] == '2019-06-30']"
   ]
  },
  {
   "cell_type": "code",
   "execution_count": 52,
   "metadata": {},
   "outputs": [],
   "source": [
    "# Aggregating the cumulative sum of the provisioning amount for the category of data above using the Groupby function of pandas\n",
    "cumulative_sum_data1 = cumulative_sum_data1.groupby(['Days Without Light', 'parProductType'])['Provisioning Amount'].sum()"
   ]
  },
  {
   "cell_type": "code",
   "execution_count": 53,
   "metadata": {
    "scrolled": true
   },
   "outputs": [
    {
     "data": {
      "text/plain": [
       "Days Without Light  parProductType\n",
       "0-31                 SHS              1.348298e+06\n",
       "                     TV               3.708519e+06\n",
       "125-155              SHS              3.961603e+05\n",
       "                     TV               3.853005e+05\n",
       "156+                 SHS              5.552157e+06\n",
       "                     TV               1.748004e+07\n",
       "32-62                SHS              5.308608e+05\n",
       "                     TV               9.623837e+05\n",
       "63-93                SHS              4.681399e+05\n",
       "                     TV               6.139079e+05\n",
       "94-124               SHS              5.067621e+05\n",
       "                     TV               4.578344e+05\n",
       "Name: Provisioning Amount, dtype: float64"
      ]
     },
     "execution_count": 53,
     "metadata": {},
     "output_type": "execute_result"
    }
   ],
   "source": [
    "# The opening balance can be seen in the result below. The name for the column will be fixed in the next lines of code\n",
    "cumulative_sum_data1"
   ]
  },
  {
   "cell_type": "markdown",
   "metadata": {},
   "source": [
    "### Computing the Closing Balance\n",
    "##### The closing balance is the  Cumulative sum of the Provisioning Amount across all the buckets at the time of reporting, \n",
    "##### in our case this would be 22nd of July from the data Provided "
   ]
  },
  {
   "cell_type": "code",
   "execution_count": 54,
   "metadata": {},
   "outputs": [],
   "source": [
    "# Extracting the data for 22nd of July (the time of reporting) as provided in the data\n",
    "cumulative_sum_data2 = provisioning_data[provisioning_data['Date_Of_Activity'] == '2019-07-22']"
   ]
  },
  {
   "cell_type": "code",
   "execution_count": 55,
   "metadata": {},
   "outputs": [],
   "source": [
    "# Aggregating the cumulative sum of the provisioning amount for the category of the data above using the Groupby function of pandas\n",
    "cumulative_sum_data2 = cumulative_sum_data2.groupby(['Days Without Light', 'parProductType'])['Provisioning Amount'].sum()"
   ]
  },
  {
   "cell_type": "code",
   "execution_count": 56,
   "metadata": {
    "scrolled": true
   },
   "outputs": [
    {
     "data": {
      "text/plain": [
       "Days Without Light  parProductType\n",
       "0-31                 SHS              1.142216e+06\n",
       "                     TV               4.387236e+06\n",
       "125-155              SHS              4.847306e+05\n",
       "                     TV               4.016043e+05\n",
       "156+                 SHS              5.530449e+06\n",
       "                     TV               1.768103e+07\n",
       "32-62                SHS              5.500859e+05\n",
       "                     TV               9.705940e+05\n",
       "63-93                SHS              4.284915e+05\n",
       "                     TV               6.767160e+05\n",
       "94-124               SHS              4.359904e+05\n",
       "                     TV               5.381987e+05\n",
       "Name: Provisioning Amount, dtype: float64"
      ]
     },
     "execution_count": 56,
     "metadata": {},
     "output_type": "execute_result"
    }
   ],
   "source": [
    "cumulative_sum_data2"
   ]
  },
  {
   "cell_type": "markdown",
   "metadata": {},
   "source": [
    "### Converting the cumulative sum data above into a Pandas Dataframe\n",
    "##### Both  data are pandas series objects. Converint into a Dataframe will help us combine both data into one comprehensive data file."
   ]
  },
  {
   "cell_type": "code",
   "execution_count": 57,
   "metadata": {},
   "outputs": [],
   "source": [
    "data1 = pd.DataFrame(cumulative_sum_data1)\n",
    "data2 = pd.DataFrame(cumulative_sum_data2)"
   ]
  },
  {
   "cell_type": "code",
   "execution_count": 58,
   "metadata": {},
   "outputs": [],
   "source": [
    "# Rename \"Provisioning Amount\" on both data to \"Opening Provisioning Amount\" & \"Closing Provisioning Amount\" as \n",
    "# presented in the final output file  of this project"
   ]
  },
  {
   "cell_type": "code",
   "execution_count": 59,
   "metadata": {},
   "outputs": [
    {
     "data": {
      "text/html": [
       "<div>\n",
       "<style scoped>\n",
       "    .dataframe tbody tr th:only-of-type {\n",
       "        vertical-align: middle;\n",
       "    }\n",
       "\n",
       "    .dataframe tbody tr th {\n",
       "        vertical-align: top;\n",
       "    }\n",
       "\n",
       "    .dataframe thead th {\n",
       "        text-align: right;\n",
       "    }\n",
       "</style>\n",
       "<table border=\"1\" class=\"dataframe\">\n",
       "  <thead>\n",
       "    <tr style=\"text-align: right;\">\n",
       "      <th></th>\n",
       "      <th></th>\n",
       "      <th>Provisioning Amount</th>\n",
       "    </tr>\n",
       "    <tr>\n",
       "      <th>Days Without Light</th>\n",
       "      <th>parProductType</th>\n",
       "      <th></th>\n",
       "    </tr>\n",
       "  </thead>\n",
       "  <tbody>\n",
       "    <tr>\n",
       "      <th rowspan=\"2\" valign=\"top\">0-31</th>\n",
       "      <th>SHS</th>\n",
       "      <td>1.348298e+06</td>\n",
       "    </tr>\n",
       "    <tr>\n",
       "      <th>TV</th>\n",
       "      <td>3.708519e+06</td>\n",
       "    </tr>\n",
       "    <tr>\n",
       "      <th rowspan=\"2\" valign=\"top\">125-155</th>\n",
       "      <th>SHS</th>\n",
       "      <td>3.961603e+05</td>\n",
       "    </tr>\n",
       "    <tr>\n",
       "      <th>TV</th>\n",
       "      <td>3.853005e+05</td>\n",
       "    </tr>\n",
       "    <tr>\n",
       "      <th>156+</th>\n",
       "      <th>SHS</th>\n",
       "      <td>5.552157e+06</td>\n",
       "    </tr>\n",
       "  </tbody>\n",
       "</table>\n",
       "</div>"
      ],
      "text/plain": [
       "                                   Provisioning Amount\n",
       "Days Without Light parProductType                     \n",
       "0-31                SHS                   1.348298e+06\n",
       "                    TV                    3.708519e+06\n",
       "125-155             SHS                   3.961603e+05\n",
       "                    TV                    3.853005e+05\n",
       "156+                SHS                   5.552157e+06"
      ]
     },
     "execution_count": 59,
     "metadata": {},
     "output_type": "execute_result"
    }
   ],
   "source": [
    "data1.head()"
   ]
  },
  {
   "cell_type": "code",
   "execution_count": 60,
   "metadata": {},
   "outputs": [],
   "source": [
    "data1 = data1.rename(columns = {'Provisioning Amount': 'Opening Provisioning Amount'})\n",
    "data2 = data2.rename(columns = {'Provisioning Amount': 'Closing Provisioning Amount'})"
   ]
  },
  {
   "cell_type": "markdown",
   "metadata": {},
   "source": [
    "### Merge Both data above into a comprehensive data file.\n",
    "##### The merge operation was done on two keys needed to present our final output"
   ]
  },
  {
   "cell_type": "code",
   "execution_count": 61,
   "metadata": {},
   "outputs": [],
   "source": [
    "output_data = pd.merge(data1, data2, on = ['parProductType','Days Without Light'])"
   ]
  },
  {
   "cell_type": "code",
   "execution_count": 62,
   "metadata": {},
   "outputs": [
    {
     "data": {
      "text/html": [
       "<div>\n",
       "<style scoped>\n",
       "    .dataframe tbody tr th:only-of-type {\n",
       "        vertical-align: middle;\n",
       "    }\n",
       "\n",
       "    .dataframe tbody tr th {\n",
       "        vertical-align: top;\n",
       "    }\n",
       "\n",
       "    .dataframe thead th {\n",
       "        text-align: right;\n",
       "    }\n",
       "</style>\n",
       "<table border=\"1\" class=\"dataframe\">\n",
       "  <thead>\n",
       "    <tr style=\"text-align: right;\">\n",
       "      <th></th>\n",
       "      <th></th>\n",
       "      <th>Opening Provisioning Amount</th>\n",
       "      <th>Closing Provisioning Amount</th>\n",
       "    </tr>\n",
       "    <tr>\n",
       "      <th>parProductType</th>\n",
       "      <th>Days Without Light</th>\n",
       "      <th></th>\n",
       "      <th></th>\n",
       "    </tr>\n",
       "  </thead>\n",
       "  <tbody>\n",
       "    <tr>\n",
       "      <th>SHS</th>\n",
       "      <th>0-31</th>\n",
       "      <td>1.348298e+06</td>\n",
       "      <td>1.142216e+06</td>\n",
       "    </tr>\n",
       "    <tr>\n",
       "      <th>TV</th>\n",
       "      <th>0-31</th>\n",
       "      <td>3.708519e+06</td>\n",
       "      <td>4.387236e+06</td>\n",
       "    </tr>\n",
       "    <tr>\n",
       "      <th>SHS</th>\n",
       "      <th>125-155</th>\n",
       "      <td>3.961603e+05</td>\n",
       "      <td>4.847306e+05</td>\n",
       "    </tr>\n",
       "    <tr>\n",
       "      <th>TV</th>\n",
       "      <th>125-155</th>\n",
       "      <td>3.853005e+05</td>\n",
       "      <td>4.016043e+05</td>\n",
       "    </tr>\n",
       "    <tr>\n",
       "      <th>SHS</th>\n",
       "      <th>156+</th>\n",
       "      <td>5.552157e+06</td>\n",
       "      <td>5.530449e+06</td>\n",
       "    </tr>\n",
       "  </tbody>\n",
       "</table>\n",
       "</div>"
      ],
      "text/plain": [
       "                                   Opening Provisioning Amount  \\\n",
       "parProductType Days Without Light                                \n",
       " SHS           0-31                               1.348298e+06   \n",
       " TV            0-31                               3.708519e+06   \n",
       " SHS           125-155                            3.961603e+05   \n",
       " TV            125-155                            3.853005e+05   \n",
       " SHS           156+                               5.552157e+06   \n",
       "\n",
       "                                   Closing Provisioning Amount  \n",
       "parProductType Days Without Light                               \n",
       " SHS           0-31                               1.142216e+06  \n",
       " TV            0-31                               4.387236e+06  \n",
       " SHS           125-155                            4.847306e+05  \n",
       " TV            125-155                            4.016043e+05  \n",
       " SHS           156+                               5.530449e+06  "
      ]
     },
     "execution_count": 62,
     "metadata": {},
     "output_type": "execute_result"
    }
   ],
   "source": [
    "output_data.head()"
   ]
  },
  {
   "cell_type": "markdown",
   "metadata": {},
   "source": [
    "### Compute cost of provisioning"
   ]
  },
  {
   "cell_type": "code",
   "execution_count": 63,
   "metadata": {},
   "outputs": [],
   "source": [
    "cost_of_provisioning = output_data['Closing Provisioning Amount'] - output_data['Opening Provisioning Amount']"
   ]
  },
  {
   "cell_type": "code",
   "execution_count": 64,
   "metadata": {},
   "outputs": [
    {
     "data": {
      "text/plain": [
       "parProductType  Days Without Light\n",
       " SHS            0-31                 -206081.670000\n",
       " TV             0-31                  678717.410476\n",
       " SHS            125-155                88570.280000\n",
       " TV             125-155                16303.761905\n",
       " SHS            156+                  -21707.945714\n",
       " TV             156+                  200991.507143\n",
       " SHS            32-62                  19225.050000\n",
       " TV             32-62                   8210.251905\n",
       " SHS            63-93                 -39648.430000\n",
       " TV             63-93                  62808.134286\n",
       " SHS            94-124                -70771.660000\n",
       " TV             94-124                 80364.294286\n",
       "dtype: float64"
      ]
     },
     "execution_count": 64,
     "metadata": {},
     "output_type": "execute_result"
    }
   ],
   "source": [
    "cost_of_provisioning"
   ]
  },
  {
   "cell_type": "markdown",
   "metadata": {},
   "source": [
    "### Summary:"
   ]
  },
  {
   "cell_type": "markdown",
   "metadata": {},
   "source": [
    "#### It can be deduced from the cost of provisioning above that customers using Solar Panels with just ligt bulb (SHS), tend to incure more loss  for PEG Africa as the number of days they remained without light increases across the different buckets."
   ]
  },
  {
   "cell_type": "code",
   "execution_count": null,
   "metadata": {},
   "outputs": [],
   "source": []
  },
  {
   "cell_type": "markdown",
   "metadata": {},
   "source": [
    "### CASE STUDY B"
   ]
  },
  {
   "cell_type": "markdown",
   "metadata": {},
   "source": [
    "#### Problem 1:"
   ]
  },
  {
   "cell_type": "markdown",
   "metadata": {},
   "source": [
    "<p>\n",
    "1)The customers statuses are being overwritten once a customer finishes paying and hence one isn’t able to monitor the customer \n",
    "movement behavior in the period of their payment. If a customer was blocked and then becomes active the new status will overwrite\n",
    "the blocked status and therefore if you wanted to study how many times this customer was blocked or has been active you don’t \n",
    "have this information. How do we write code in Python that is able to preserve the statuses and not overwrite them Once a \n",
    "customer finishes to pay? \n",
    "</p>"
   ]
  },
  {
   "cell_type": "markdown",
   "metadata": {},
   "source": [
    "### A function to preserve the statuses of the customers.\n",
    "<p> This function is called once a customer finishes his/her payment. The output of the function ensures the status of the\n",
    "customer is preserved before and after the circle of payment.</p>"
   ]
  },
  {
   "cell_type": "markdown",
   "metadata": {},
   "source": [
    "#### Problem 2:"
   ]
  },
  {
   "cell_type": "code",
   "execution_count": 65,
   "metadata": {},
   "outputs": [],
   "source": [
    "# Read in the customer token information data\n",
    "customer_token_info = pd.read_csv('Customer_Token_Information.csv')"
   ]
  },
  {
   "cell_type": "code",
   "execution_count": 66,
   "metadata": {},
   "outputs": [
    {
     "data": {
      "text/html": [
       "<div>\n",
       "<style scoped>\n",
       "    .dataframe tbody tr th:only-of-type {\n",
       "        vertical-align: middle;\n",
       "    }\n",
       "\n",
       "    .dataframe tbody tr th {\n",
       "        vertical-align: top;\n",
       "    }\n",
       "\n",
       "    .dataframe thead th {\n",
       "        text-align: right;\n",
       "    }\n",
       "</style>\n",
       "<table border=\"1\" class=\"dataframe\">\n",
       "  <thead>\n",
       "    <tr style=\"text-align: right;\">\n",
       "      <th></th>\n",
       "      <th>contractId</th>\n",
       "      <th>AccountNumber</th>\n",
       "      <th>CreatedAt</th>\n",
       "      <th>Amount</th>\n",
       "      <th>Count</th>\n",
       "      <th>Duration</th>\n",
       "    </tr>\n",
       "  </thead>\n",
       "  <tbody>\n",
       "    <tr>\n",
       "      <th>0</th>\n",
       "      <td>1307022</td>\n",
       "      <td>142325110</td>\n",
       "      <td>9/1/2017 15:54</td>\n",
       "      <td>100</td>\n",
       "      <td>0</td>\n",
       "      <td>5</td>\n",
       "    </tr>\n",
       "    <tr>\n",
       "      <th>1</th>\n",
       "      <td>1307374</td>\n",
       "      <td>92511041</td>\n",
       "      <td>9/2/2017 16:31</td>\n",
       "      <td>100</td>\n",
       "      <td>0</td>\n",
       "      <td>5</td>\n",
       "    </tr>\n",
       "    <tr>\n",
       "      <th>2</th>\n",
       "      <td>1307721</td>\n",
       "      <td>202399520</td>\n",
       "      <td>9/4/2017 11:08</td>\n",
       "      <td>100</td>\n",
       "      <td>0</td>\n",
       "      <td>5</td>\n",
       "    </tr>\n",
       "    <tr>\n",
       "      <th>3</th>\n",
       "      <td>1307764</td>\n",
       "      <td>676152506</td>\n",
       "      <td>9/4/2017 12:12</td>\n",
       "      <td>100</td>\n",
       "      <td>0</td>\n",
       "      <td>5</td>\n",
       "    </tr>\n",
       "    <tr>\n",
       "      <th>4</th>\n",
       "      <td>1307862</td>\n",
       "      <td>698858327</td>\n",
       "      <td>9/4/2017 15:00</td>\n",
       "      <td>100</td>\n",
       "      <td>0</td>\n",
       "      <td>5</td>\n",
       "    </tr>\n",
       "  </tbody>\n",
       "</table>\n",
       "</div>"
      ],
      "text/plain": [
       "   contractId  AccountNumber       CreatedAt  Amount  Count  Duration\n",
       "0     1307022      142325110  9/1/2017 15:54     100      0         5\n",
       "1     1307374       92511041  9/2/2017 16:31     100      0         5\n",
       "2     1307721      202399520  9/4/2017 11:08     100      0         5\n",
       "3     1307764      676152506  9/4/2017 12:12     100      0         5\n",
       "4     1307862      698858327  9/4/2017 15:00     100      0         5"
      ]
     },
     "execution_count": 66,
     "metadata": {},
     "output_type": "execute_result"
    }
   ],
   "source": [
    "customer_token_info.head()"
   ]
  },
  {
   "cell_type": "markdown",
   "metadata": {},
   "source": [
    "### A function to keep track of A customer's Day of Activity"
   ]
  },
  {
   "cell_type": "markdown",
   "metadata": {},
   "source": [
    "<p> This function keeps track of the Date of Activity of each of the customer. The output helps to understand each customer’s behavior throughout their credit life cycle until they finish the loan</p>\n",
    "<p> This function is only called when the Date of Activity is need. This means there will be no need to log the Date of Activity of each customers daily which increases the cost of data storage as well as results in performance issues.</p>"
   ]
  },
  {
   "cell_type": "code",
   "execution_count": 67,
   "metadata": {},
   "outputs": [],
   "source": [
    "def date_activity_tracker():\n",
    "    # The date of activity can be computed by sustracting the Token Dutation from the Credit_End_Date\n",
    "    date_of_activity = provisioning_data['Credits_End_Date'] - customer_token_info['Duration'].astype('timedelta64[D]')\n",
    "    date_of_activity = pd.DataFrame(data = date_of_activity, columns = ['Date_Of_Activity'])\n",
    "    return date_of_activity"
   ]
  },
  {
   "cell_type": "markdown",
   "metadata": {},
   "source": [
    "### Output of the function when called"
   ]
  },
  {
   "cell_type": "code",
   "execution_count": 68,
   "metadata": {
    "scrolled": false
   },
   "outputs": [
    {
     "data": {
      "text/html": [
       "<div>\n",
       "<style scoped>\n",
       "    .dataframe tbody tr th:only-of-type {\n",
       "        vertical-align: middle;\n",
       "    }\n",
       "\n",
       "    .dataframe tbody tr th {\n",
       "        vertical-align: top;\n",
       "    }\n",
       "\n",
       "    .dataframe thead th {\n",
       "        text-align: right;\n",
       "    }\n",
       "</style>\n",
       "<table border=\"1\" class=\"dataframe\">\n",
       "  <thead>\n",
       "    <tr style=\"text-align: right;\">\n",
       "      <th></th>\n",
       "      <th>Date_Of_Activity</th>\n",
       "    </tr>\n",
       "  </thead>\n",
       "  <tbody>\n",
       "    <tr>\n",
       "      <th>0</th>\n",
       "      <td>2018-10-02</td>\n",
       "    </tr>\n",
       "    <tr>\n",
       "      <th>1</th>\n",
       "      <td>2019-02-15</td>\n",
       "    </tr>\n",
       "    <tr>\n",
       "      <th>2</th>\n",
       "      <td>2018-08-11</td>\n",
       "    </tr>\n",
       "    <tr>\n",
       "      <th>3</th>\n",
       "      <td>2019-01-09</td>\n",
       "    </tr>\n",
       "    <tr>\n",
       "      <th>4</th>\n",
       "      <td>2017-12-16</td>\n",
       "    </tr>\n",
       "  </tbody>\n",
       "</table>\n",
       "</div>"
      ],
      "text/plain": [
       "  Date_Of_Activity\n",
       "0       2018-10-02\n",
       "1       2019-02-15\n",
       "2       2018-08-11\n",
       "3       2019-01-09\n",
       "4       2017-12-16"
      ]
     },
     "execution_count": 68,
     "metadata": {},
     "output_type": "execute_result"
    }
   ],
   "source": [
    "date_activity_tracker().head()"
   ]
  },
  {
   "cell_type": "markdown",
   "metadata": {},
   "source": [
    "### Delete the original Date of Activity"
   ]
  },
  {
   "cell_type": "markdown",
   "metadata": {},
   "source": [
    "<p> Now that we have a function that keeps track and store the Date of Activity for each customers\n",
    "and outputs that when needed, we can now delete the Date_of_Activity column from the provisioning data.</p>"
   ]
  },
  {
   "cell_type": "code",
   "execution_count": 71,
   "metadata": {},
   "outputs": [],
   "source": [
    "provisioning_data.drop(['Date_Of_Activity'], axis = 1, inplace = True)"
   ]
  },
  {
   "cell_type": "code",
   "execution_count": 72,
   "metadata": {
    "scrolled": true
   },
   "outputs": [
    {
     "data": {
      "text/html": [
       "<div>\n",
       "<style scoped>\n",
       "    .dataframe tbody tr th:only-of-type {\n",
       "        vertical-align: middle;\n",
       "    }\n",
       "\n",
       "    .dataframe tbody tr th {\n",
       "        vertical-align: top;\n",
       "    }\n",
       "\n",
       "    .dataframe thead th {\n",
       "        text-align: right;\n",
       "    }\n",
       "</style>\n",
       "<table border=\"1\" class=\"dataframe\">\n",
       "  <thead>\n",
       "    <tr style=\"text-align: right;\">\n",
       "      <th></th>\n",
       "      <th>Loan_Id</th>\n",
       "      <th>Credits_End_Date</th>\n",
       "      <th>Outstanding_Balance</th>\n",
       "      <th>customerStatus</th>\n",
       "      <th>parProductType</th>\n",
       "      <th>Days Without Light</th>\n",
       "      <th>Provisioning Amount</th>\n",
       "    </tr>\n",
       "  </thead>\n",
       "  <tbody>\n",
       "    <tr>\n",
       "      <th>0</th>\n",
       "      <td>1239226</td>\n",
       "      <td>2018-10-07</td>\n",
       "      <td>0.0</td>\n",
       "      <td>Finished Payment</td>\n",
       "      <td>SHS</td>\n",
       "      <td>156+</td>\n",
       "      <td>0.0</td>\n",
       "    </tr>\n",
       "    <tr>\n",
       "      <th>1</th>\n",
       "      <td>1250598</td>\n",
       "      <td>2019-02-20</td>\n",
       "      <td>0.0</td>\n",
       "      <td>Finished Payment</td>\n",
       "      <td>SHS</td>\n",
       "      <td>125-155</td>\n",
       "      <td>0.0</td>\n",
       "    </tr>\n",
       "    <tr>\n",
       "      <th>2</th>\n",
       "      <td>1250602</td>\n",
       "      <td>2018-08-16</td>\n",
       "      <td>0.0</td>\n",
       "      <td>Finished Payment</td>\n",
       "      <td>SHS</td>\n",
       "      <td>156+</td>\n",
       "      <td>0.0</td>\n",
       "    </tr>\n",
       "    <tr>\n",
       "      <th>3</th>\n",
       "      <td>1251521</td>\n",
       "      <td>2019-01-14</td>\n",
       "      <td>0.0</td>\n",
       "      <td>Finished Payment</td>\n",
       "      <td>SHS</td>\n",
       "      <td>156+</td>\n",
       "      <td>0.0</td>\n",
       "    </tr>\n",
       "    <tr>\n",
       "      <th>4</th>\n",
       "      <td>1251524</td>\n",
       "      <td>2017-12-21</td>\n",
       "      <td>700.0</td>\n",
       "      <td>Blocked</td>\n",
       "      <td>SHS</td>\n",
       "      <td>156+</td>\n",
       "      <td>700.0</td>\n",
       "    </tr>\n",
       "  </tbody>\n",
       "</table>\n",
       "</div>"
      ],
      "text/plain": [
       "   Loan_Id Credits_End_Date  Outstanding_Balance    customerStatus  \\\n",
       "0  1239226       2018-10-07                  0.0  Finished Payment   \n",
       "1  1250598       2019-02-20                  0.0  Finished Payment   \n",
       "2  1250602       2018-08-16                  0.0  Finished Payment   \n",
       "3  1251521       2019-01-14                  0.0  Finished Payment   \n",
       "4  1251524       2017-12-21                700.0           Blocked   \n",
       "\n",
       "  parProductType Days Without Light  Provisioning Amount  \n",
       "0            SHS               156+                  0.0  \n",
       "1            SHS            125-155                  0.0  \n",
       "2            SHS               156+                  0.0  \n",
       "3            SHS               156+                  0.0  \n",
       "4            SHS               156+                700.0  "
      ]
     },
     "execution_count": 72,
     "metadata": {},
     "output_type": "execute_result"
    }
   ],
   "source": [
    "provisioning_data.head()"
   ]
  },
  {
   "cell_type": "code",
   "execution_count": null,
   "metadata": {},
   "outputs": [],
   "source": []
  },
  {
   "cell_type": "code",
   "execution_count": null,
   "metadata": {},
   "outputs": [],
   "source": []
  },
  {
   "cell_type": "markdown",
   "metadata": {},
   "source": [
    "## Case Study C - SQL Assesment"
   ]
  },
  {
   "cell_type": "code",
   "execution_count": null,
   "metadata": {},
   "outputs": [],
   "source": []
  }
 ],
 "metadata": {
  "kernelspec": {
   "display_name": "Python 3",
   "language": "python",
   "name": "python3"
  },
  "language_info": {
   "codemirror_mode": {
    "name": "ipython",
    "version": 3
   },
   "file_extension": ".py",
   "mimetype": "text/x-python",
   "name": "python",
   "nbconvert_exporter": "python",
   "pygments_lexer": "ipython3",
   "version": "3.7.0"
  }
 },
 "nbformat": 4,
 "nbformat_minor": 2
}
